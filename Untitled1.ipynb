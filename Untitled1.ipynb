{
 "cells": [
  {
   "cell_type": "code",
   "execution_count": 8,
   "id": "17b776a6",
   "metadata": {},
   "outputs": [],
   "source": [
    "import boto3\n",
    "import pandas as pd\n",
    "from io import StringIO"
   ]
  },
  {
   "cell_type": "code",
   "execution_count": 3,
   "id": "2da47f49",
   "metadata": {},
   "outputs": [],
   "source": [
    "arg_date='2022-09-01'\n",
    "src_format='%Y-%m-%d'\n",
    "bucket_name='radek-xetra-1234'\n",
    "init_key_name='2022-01-07/2022-01-07_BINS_XETR22.csv'\n",
    "prefix='2022-09-01'\n",
    "Final_columns=['ISIN', 'Date', 'Time', 'StartPrice', 'MaxPrice', 'MinPrice', 'EndPrice', 'TradedVolume']\n",
    "    \n",
    "#Init\n",
    "s3=boto3.resource('s3')\n",
    "bucket=s3.Bucket(bucket_name)\n"
   ]
  },
  {
   "cell_type": "code",
   "execution_count": 5,
   "id": "6f25d3c4",
   "metadata": {},
   "outputs": [
    {
     "data": {
      "text/plain": [
       "s3.Object(bucket_name='radek-xetra-1234', key='2022-09-01/')"
      ]
     },
     "execution_count": 5,
     "metadata": {},
     "output_type": "execute_result"
    }
   ],
   "source": [
    "bucket.put_object(Key=prefix+'/')"
   ]
  },
  {
   "cell_type": "code",
   "execution_count": 6,
   "id": "10d62b53",
   "metadata": {},
   "outputs": [
    {
     "ename": "NameError",
     "evalue": "name 'Key' is not defined",
     "output_type": "error",
     "traceback": [
      "\u001b[1;31m---------------------------------------------------------------------------\u001b[0m",
      "\u001b[1;31mNameError\u001b[0m                                 Traceback (most recent call last)",
      "Cell \u001b[1;32mIn [6], line 1\u001b[0m\n\u001b[1;32m----> 1\u001b[0m bucket\u001b[38;5;241m.\u001b[39mput_object({\u001b[43mKey\u001b[49m:prefix\u001b[38;5;241m+\u001b[39m\u001b[38;5;124m'\u001b[39m\u001b[38;5;124m/\u001b[39m\u001b[38;5;124m'\u001b[39m,\n\u001b[0;32m      2\u001b[0m                    Key:\u001b[38;5;124m'\u001b[39m\u001b[38;5;124m2022-09-02/\u001b[39m\u001b[38;5;124m'\u001b[39m,\n\u001b[0;32m      3\u001b[0m                    Key:\u001b[38;5;124m'\u001b[39m\u001b[38;5;124m2022-09-03/\u001b[39m\u001b[38;5;124m'\u001b[39m})\n",
      "\u001b[1;31mNameError\u001b[0m: name 'Key' is not defined"
     ]
    }
   ],
   "source": [
    "bucket.put_object({Key:prefix+'/',\n",
    "                   Key:'2022-09-02/',\n",
    "                   Key:'2022-09-03/'})"
   ]
  },
  {
   "cell_type": "code",
   "execution_count": 13,
   "id": "eba097d6",
   "metadata": {},
   "outputs": [],
   "source": [
    "data_frame=pd.DataFrame(columns=Final_columns);\n",
    "csv_file=StringIO()\n",
    "data_frame.to_csv(csv_file,index=False)"
   ]
  },
  {
   "cell_type": "code",
   "execution_count": 18,
   "id": "563e6fe9",
   "metadata": {},
   "outputs": [
    {
     "data": {
      "text/plain": [
       "s3.Object(bucket_name='radek-xetra-1234', key='2022-09-01/first_csv_file.csv')"
      ]
     },
     "execution_count": 18,
     "metadata": {},
     "output_type": "execute_result"
    }
   ],
   "source": [
    "bucket.put_object(Body=csv_file.getvalue(), Key=prefix+'/'+'first_csv_file.csv')"
   ]
  },
  {
   "cell_type": "code",
   "execution_count": 24,
   "id": "0f2683c5",
   "metadata": {},
   "outputs": [],
   "source": [
    "columns_src = ['ISIN', 'Mnemonic', 'Date', 'Time', 'StartPrice',\n",
    "        'EndPrice', 'MinPrice', 'MaxPrice', 'TradedVolume']\n",
    "data = [['AT111111', 'SANT', '2022-09-02', '12:00', 20.19, 18.45, 18.20, 20.33, 877],\n",
    "                ['AT222222', 'SANT', '2022-09-02', '15:00', 18.27, 21.19, 18.27, 21.34, 987],\n",
    "                ['AT111111', 'SANT', '2022-09-03', '13:00', 20.21, 18.27, 18.21, 20.42, 633],\n",
    "                ['AT111111', 'SANT', '2022-09-03', '14:00', 18.27, 21.19, 18.27, 21.34, 455],\n",
    "                ['AT111111', 'SANT', '2022-09-04', '07:00', 20.58, 19.27, 18.89, 20.58, 9066],\n",
    "                ['AT222222', 'SANT', '2022-09-04', '08:00', 19.27, 21.14, 19.27, 21.14, 1220],\n",
    "                ['AT222222', 'SANT', '2022-09-05', '07:00', 23.58, 23.58, 23.58, 23.58, 1035],\n",
    "                ['AT222222', 'SANT', '2022-09-05', '08:00', 23.58, 24.22, 23.31, 24.34, 1028],\n",
    "                ['AT222222', 'SANT', '2022-09-05', '09:00', 24.22, 22.21, 22.21, 25.01, 1523]]\n",
    "columns_report = ['ISIN', 'Date', 'opening_price_eur', 'closing_price_eur',\n",
    "        'minimum_price_eur', 'maximum_price_eur', 'daily_traded_volume', 'change_prev_closing_%']"
   ]
  },
  {
   "cell_type": "code",
   "execution_count": 21,
   "id": "c9c710d9",
   "metadata": {},
   "outputs": [],
   "source": [
    "data_frame_src=pd.DataFrame(data, columns=columns_src)"
   ]
  },
  {
   "cell_type": "code",
   "execution_count": 22,
   "id": "92636f2c",
   "metadata": {},
   "outputs": [
    {
     "data": {
      "text/html": [
       "<div>\n",
       "<style scoped>\n",
       "    .dataframe tbody tr th:only-of-type {\n",
       "        vertical-align: middle;\n",
       "    }\n",
       "\n",
       "    .dataframe tbody tr th {\n",
       "        vertical-align: top;\n",
       "    }\n",
       "\n",
       "    .dataframe thead th {\n",
       "        text-align: right;\n",
       "    }\n",
       "</style>\n",
       "<table border=\"1\" class=\"dataframe\">\n",
       "  <thead>\n",
       "    <tr style=\"text-align: right;\">\n",
       "      <th></th>\n",
       "      <th>ISIN</th>\n",
       "      <th>Mnemonic</th>\n",
       "      <th>Date</th>\n",
       "      <th>Time</th>\n",
       "      <th>StartPrice</th>\n",
       "      <th>EndPrice</th>\n",
       "      <th>MinPrice</th>\n",
       "      <th>MaxPrice</th>\n",
       "      <th>TradedVolume</th>\n",
       "    </tr>\n",
       "  </thead>\n",
       "  <tbody>\n",
       "    <tr>\n",
       "      <th>0</th>\n",
       "      <td>AT111111</td>\n",
       "      <td>SANT</td>\n",
       "      <td>2022-09-02</td>\n",
       "      <td>12:00</td>\n",
       "      <td>20.19</td>\n",
       "      <td>18.45</td>\n",
       "      <td>18.20</td>\n",
       "      <td>20.33</td>\n",
       "      <td>877</td>\n",
       "    </tr>\n",
       "    <tr>\n",
       "      <th>1</th>\n",
       "      <td>AT222222</td>\n",
       "      <td>SANT</td>\n",
       "      <td>2022-09-02</td>\n",
       "      <td>15:00</td>\n",
       "      <td>18.27</td>\n",
       "      <td>21.19</td>\n",
       "      <td>18.27</td>\n",
       "      <td>21.34</td>\n",
       "      <td>987</td>\n",
       "    </tr>\n",
       "    <tr>\n",
       "      <th>2</th>\n",
       "      <td>AT111111</td>\n",
       "      <td>SANT</td>\n",
       "      <td>2022-09-03</td>\n",
       "      <td>13:00</td>\n",
       "      <td>20.21</td>\n",
       "      <td>18.27</td>\n",
       "      <td>18.21</td>\n",
       "      <td>20.42</td>\n",
       "      <td>633</td>\n",
       "    </tr>\n",
       "    <tr>\n",
       "      <th>3</th>\n",
       "      <td>AT111111</td>\n",
       "      <td>SANT</td>\n",
       "      <td>2022-09-03</td>\n",
       "      <td>14:00</td>\n",
       "      <td>18.27</td>\n",
       "      <td>21.19</td>\n",
       "      <td>18.27</td>\n",
       "      <td>21.34</td>\n",
       "      <td>455</td>\n",
       "    </tr>\n",
       "    <tr>\n",
       "      <th>4</th>\n",
       "      <td>AT111111</td>\n",
       "      <td>SANT</td>\n",
       "      <td>2022-09-04</td>\n",
       "      <td>07:00</td>\n",
       "      <td>20.58</td>\n",
       "      <td>19.27</td>\n",
       "      <td>18.89</td>\n",
       "      <td>20.58</td>\n",
       "      <td>9066</td>\n",
       "    </tr>\n",
       "    <tr>\n",
       "      <th>5</th>\n",
       "      <td>AT222222</td>\n",
       "      <td>SANT</td>\n",
       "      <td>2022-09-04</td>\n",
       "      <td>08:00</td>\n",
       "      <td>19.27</td>\n",
       "      <td>21.14</td>\n",
       "      <td>19.27</td>\n",
       "      <td>21.14</td>\n",
       "      <td>1220</td>\n",
       "    </tr>\n",
       "    <tr>\n",
       "      <th>6</th>\n",
       "      <td>AT222222</td>\n",
       "      <td>SANT</td>\n",
       "      <td>2022-09-05</td>\n",
       "      <td>07:00</td>\n",
       "      <td>23.58</td>\n",
       "      <td>23.58</td>\n",
       "      <td>23.58</td>\n",
       "      <td>23.58</td>\n",
       "      <td>1035</td>\n",
       "    </tr>\n",
       "    <tr>\n",
       "      <th>7</th>\n",
       "      <td>AT222222</td>\n",
       "      <td>SANT</td>\n",
       "      <td>2022-09-05</td>\n",
       "      <td>08:00</td>\n",
       "      <td>23.58</td>\n",
       "      <td>24.22</td>\n",
       "      <td>23.31</td>\n",
       "      <td>24.34</td>\n",
       "      <td>1028</td>\n",
       "    </tr>\n",
       "    <tr>\n",
       "      <th>8</th>\n",
       "      <td>AT222222</td>\n",
       "      <td>SANT</td>\n",
       "      <td>2022-09-05</td>\n",
       "      <td>09:00</td>\n",
       "      <td>24.22</td>\n",
       "      <td>22.21</td>\n",
       "      <td>22.21</td>\n",
       "      <td>25.01</td>\n",
       "      <td>1523</td>\n",
       "    </tr>\n",
       "  </tbody>\n",
       "</table>\n",
       "</div>"
      ],
      "text/plain": [
       "       ISIN Mnemonic        Date   Time  StartPrice  EndPrice  MinPrice  \\\n",
       "0  AT111111     SANT  2022-09-02  12:00       20.19     18.45     18.20   \n",
       "1  AT222222     SANT  2022-09-02  15:00       18.27     21.19     18.27   \n",
       "2  AT111111     SANT  2022-09-03  13:00       20.21     18.27     18.21   \n",
       "3  AT111111     SANT  2022-09-03  14:00       18.27     21.19     18.27   \n",
       "4  AT111111     SANT  2022-09-04  07:00       20.58     19.27     18.89   \n",
       "5  AT222222     SANT  2022-09-04  08:00       19.27     21.14     19.27   \n",
       "6  AT222222     SANT  2022-09-05  07:00       23.58     23.58     23.58   \n",
       "7  AT222222     SANT  2022-09-05  08:00       23.58     24.22     23.31   \n",
       "8  AT222222     SANT  2022-09-05  09:00       24.22     22.21     22.21   \n",
       "\n",
       "   MaxPrice  TradedVolume  \n",
       "0     20.33           877  \n",
       "1     21.34           987  \n",
       "2     20.42           633  \n",
       "3     21.34           455  \n",
       "4     20.58          9066  \n",
       "5     21.14          1220  \n",
       "6     23.58          1035  \n",
       "7     24.34          1028  \n",
       "8     25.01          1523  "
      ]
     },
     "execution_count": 22,
     "metadata": {},
     "output_type": "execute_result"
    }
   ],
   "source": [
    "data_frame_src"
   ]
  },
  {
   "cell_type": "code",
   "execution_count": 27,
   "id": "a6f463e3",
   "metadata": {},
   "outputs": [],
   "source": [
    "def transform_report1(df_obj,start_date,column_list):\n",
    "    #part of code to select only required columns\n",
    "    df_obj=df_obj.loc[:,column_list]\n",
    "    df_obj.dropna(inplace=True)\n",
    "    df_obj['opening_price']=df_obj.sort_values(by=['Time']).groupby(['ISIN','Date'])['StartPrice'].transform('first')\n",
    "    df_obj['closing_price']=df_obj.sort_values(by=['Time']).groupby(['ISIN','Date'])['EndPrice'].transform('last')\n",
    "    df_obj=df_obj.groupby(['ISIN','Date'], as_index=False).agg(opening_price_eur=('opening_price','min'), closing_price_eur=('closing_price','max'),\n",
    "                                                           minimum_price_eur=('MinPrice','min'), maximum_price_eur=('MaxPrice','max'), daily_traded_volume=('TradedVolume','sum'))\n",
    "    #percent change prev closing\n",
    "    df_obj['prev_closing_price']=df_obj.sort_values(by=['Date']).groupby(['ISIN'])['closing_price_eur'].shift(1)\n",
    "    df_obj['change_vs_prior_day']=(df_obj['closing_price_eur']-df_obj['prev_closing_price'])/df_obj['prev_closing_price']*100\n",
    "    df_obj.drop(columns=['prev_closing_price'],inplace=True)\n",
    "    df_obj=df_obj.round(decimals=2)\n",
    "    \n",
    "    #filtering\n",
    "    df_obj=df_obj[df_obj.Date>=start_date]\n",
    "    return df_obj"
   ]
  },
  {
   "cell_type": "code",
   "execution_count": 28,
   "id": "5480a0c5",
   "metadata": {},
   "outputs": [],
   "source": [
    "df_repor=transform_report1(data_frame_src, '2022-09-03',columns_src)"
   ]
  },
  {
   "cell_type": "code",
   "execution_count": 29,
   "id": "946a5a5e",
   "metadata": {},
   "outputs": [
    {
     "data": {
      "text/html": [
       "<div>\n",
       "<style scoped>\n",
       "    .dataframe tbody tr th:only-of-type {\n",
       "        vertical-align: middle;\n",
       "    }\n",
       "\n",
       "    .dataframe tbody tr th {\n",
       "        vertical-align: top;\n",
       "    }\n",
       "\n",
       "    .dataframe thead th {\n",
       "        text-align: right;\n",
       "    }\n",
       "</style>\n",
       "<table border=\"1\" class=\"dataframe\">\n",
       "  <thead>\n",
       "    <tr style=\"text-align: right;\">\n",
       "      <th></th>\n",
       "      <th>ISIN</th>\n",
       "      <th>Date</th>\n",
       "      <th>opening_price_eur</th>\n",
       "      <th>closing_price_eur</th>\n",
       "      <th>minimum_price_eur</th>\n",
       "      <th>maximum_price_eur</th>\n",
       "      <th>daily_traded_volume</th>\n",
       "      <th>change_vs_prior_day</th>\n",
       "    </tr>\n",
       "  </thead>\n",
       "  <tbody>\n",
       "    <tr>\n",
       "      <th>1</th>\n",
       "      <td>AT111111</td>\n",
       "      <td>2022-09-03</td>\n",
       "      <td>20.21</td>\n",
       "      <td>21.19</td>\n",
       "      <td>18.21</td>\n",
       "      <td>21.34</td>\n",
       "      <td>1088</td>\n",
       "      <td>14.85</td>\n",
       "    </tr>\n",
       "    <tr>\n",
       "      <th>2</th>\n",
       "      <td>AT111111</td>\n",
       "      <td>2022-09-04</td>\n",
       "      <td>20.58</td>\n",
       "      <td>19.27</td>\n",
       "      <td>18.89</td>\n",
       "      <td>20.58</td>\n",
       "      <td>9066</td>\n",
       "      <td>-9.06</td>\n",
       "    </tr>\n",
       "    <tr>\n",
       "      <th>4</th>\n",
       "      <td>AT222222</td>\n",
       "      <td>2022-09-04</td>\n",
       "      <td>19.27</td>\n",
       "      <td>21.14</td>\n",
       "      <td>19.27</td>\n",
       "      <td>21.14</td>\n",
       "      <td>1220</td>\n",
       "      <td>-0.24</td>\n",
       "    </tr>\n",
       "    <tr>\n",
       "      <th>5</th>\n",
       "      <td>AT222222</td>\n",
       "      <td>2022-09-05</td>\n",
       "      <td>23.58</td>\n",
       "      <td>22.21</td>\n",
       "      <td>22.21</td>\n",
       "      <td>25.01</td>\n",
       "      <td>3586</td>\n",
       "      <td>5.06</td>\n",
       "    </tr>\n",
       "  </tbody>\n",
       "</table>\n",
       "</div>"
      ],
      "text/plain": [
       "       ISIN        Date  opening_price_eur  closing_price_eur  \\\n",
       "1  AT111111  2022-09-03              20.21              21.19   \n",
       "2  AT111111  2022-09-04              20.58              19.27   \n",
       "4  AT222222  2022-09-04              19.27              21.14   \n",
       "5  AT222222  2022-09-05              23.58              22.21   \n",
       "\n",
       "   minimum_price_eur  maximum_price_eur  daily_traded_volume  \\\n",
       "1              18.21              21.34                 1088   \n",
       "2              18.89              20.58                 9066   \n",
       "4              19.27              21.14                 1220   \n",
       "5              22.21              25.01                 3586   \n",
       "\n",
       "   change_vs_prior_day  \n",
       "1                14.85  \n",
       "2                -9.06  \n",
       "4                -0.24  \n",
       "5                 5.06  "
      ]
     },
     "execution_count": 29,
     "metadata": {},
     "output_type": "execute_result"
    }
   ],
   "source": [
    "df_repor"
   ]
  },
  {
   "cell_type": "code",
   "execution_count": null,
   "id": "433b9cd6",
   "metadata": {},
   "outputs": [],
   "source": []
  }
 ],
 "metadata": {
  "kernelspec": {
   "display_name": "Python 3 (ipykernel)",
   "language": "python",
   "name": "python3"
  },
  "language_info": {
   "codemirror_mode": {
    "name": "ipython",
    "version": 3
   },
   "file_extension": ".py",
   "mimetype": "text/x-python",
   "name": "python",
   "nbconvert_exporter": "python",
   "pygments_lexer": "ipython3",
   "version": "3.9.12"
  }
 },
 "nbformat": 4,
 "nbformat_minor": 5
}

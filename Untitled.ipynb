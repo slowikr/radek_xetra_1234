{
 "cells": [
  {
   "cell_type": "code",
   "execution_count": 19,
   "id": "c4dfd760",
   "metadata": {},
   "outputs": [
    {
     "name": "stdout",
     "output_type": "stream",
     "text": [
      "KEY1\n"
     ]
    }
   ],
   "source": [
    "import boto3\n",
    "import os\n",
    "from moto import mock_s3\n",
    "\n",
    "s3_access_key = \"AWS_ACCESS_KEY_ID\"\n",
    "s3_secret_key = \"AWS_SECRET_ACCESS_KEY\"\n",
    "os.environ[s3_access_key]=\"KEY1\"\n",
    "os.environ[s3_secret_key]=\"KEY2\"\n",
    "print(os.environ[s3_access_key])\n",
    "s3_endpoint_url = \"https://s3.eu-central-1.amazonaws.com\"\n",
    "s3_bucket_name = \"test-bucket\"\n",
    "\n",
    "mock=mock_s3()\n",
    "mock.start()"
   ]
  },
  {
   "cell_type": "code",
   "execution_count": 20,
   "id": "a89d2880",
   "metadata": {},
   "outputs": [
    {
     "data": {
      "text/plain": [
       "s3.Bucket(name='test-bucket')"
      ]
     },
     "execution_count": 20,
     "metadata": {},
     "output_type": "execute_result"
    }
   ],
   "source": [
    "s3 = boto3.resource(service_name='s3',endpoint_url=s3_endpoint_url)\n",
    "s3.create_bucket(Bucket=s3_bucket_name,\n",
    "                              CreateBucketConfiguration={'LocationConstraint':'eu-central-1'})\n"
   ]
  },
  {
   "cell_type": "code",
   "execution_count": 9,
   "id": "2018fa1c",
   "metadata": {},
   "outputs": [
    {
     "name": "stdout",
     "output_type": "stream",
     "text": [
      "KEY1\n"
     ]
    }
   ],
   "source": [
    "print(os.environ[s3_access_key])"
   ]
  },
  {
   "cell_type": "code",
   "execution_count": null,
   "id": "e4de5989",
   "metadata": {},
   "outputs": [],
   "source": []
  }
 ],
 "metadata": {
  "kernelspec": {
   "display_name": "Python 3 (ipykernel)",
   "language": "python",
   "name": "python3"
  },
  "language_info": {
   "codemirror_mode": {
    "name": "ipython",
    "version": 3
   },
   "file_extension": ".py",
   "mimetype": "text/x-python",
   "name": "python",
   "nbconvert_exporter": "python",
   "pygments_lexer": "ipython3",
   "version": "3.9.12"
  }
 },
 "nbformat": 4,
 "nbformat_minor": 5
}
